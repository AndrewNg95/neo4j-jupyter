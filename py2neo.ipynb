{
 "cells": [
  {
   "cell_type": "markdown",
   "metadata": {
    "collapsed": true
   },
   "source": [
    "# py2neo\n",
    "\n",
    "`py2neo` is one of Neo4j's Python drivers. It offers a fully-featured interface for interacting with your data in Neo4j. Install `py2neo` with `pip install py2neo`.\n",
    "\n",
    "## Connect\n",
    "\n",
    "Connect to Neo4j with the `Graph` class."
   ]
  },
  {
   "cell_type": "code",
   "execution_count": 1,
   "metadata": {
    "collapsed": false
   },
   "outputs": [],
   "source": [
    "from py2neo import Graph\n",
    "from scripts.vis import draw\n",
    "\n",
    "graph = Graph()\n",
    "\n",
    "graph.delete_all()"
   ]
  },
  {
   "cell_type": "markdown",
   "metadata": {},
   "source": [
    "## Nodes\n",
    "\n",
    "Create nodes with the `Node` class. The first argument is the node's label. The remaining arguments are an arbitrary amount of node properties or key-value pairs."
   ]
  },
  {
   "cell_type": "code",
   "execution_count": 2,
   "metadata": {
    "collapsed": false
   },
   "outputs": [
    {
     "data": {
      "text/html": [
       "\n",
       "        <iframe\n",
       "            width=\"500\"\n",
       "            height=\"300\"\n",
       "            src=\"figure/graph-73414581-958f-4e55-a0c7-7e7e7f6d10d8.html\"\n",
       "            frameborder=\"0\"\n",
       "            allowfullscreen\n",
       "        ></iframe>\n",
       "        "
      ],
      "text/plain": [
       "<IPython.lib.display.IFrame at 0x10313e950>"
      ]
     },
     "execution_count": 2,
     "metadata": {},
     "output_type": "execute_result"
    }
   ],
   "source": [
    "from py2neo import Node\n",
    "\n",
    "nicole = Node(\"Person\", name=\"Nicole\", age=24)\n",
    "drew = Node(\"Person\", name=\"Drew\", age=20)\n",
    "\n",
    "mtdew = Node(\"Drink\", name=\"Mountain Dew\", calories=9000)\n",
    "cokezero = Node(\"Drink\", name=\"Coke Zero\", calories=0)\n",
    "\n",
    "coke = Node(\"Manufacturer\", name=\"Coca Cola\")\n",
    "pepsi = Node(\"Manufacturer\", name=\"Pepsi\")\n",
    "\n",
    "graph.create(nicole, drew, mtdew, cokezero, coke, pepsi)\n",
    "\n",
    "options = {\"Person\": \"name\", \"Drink\": \"name\", \"Manufacturer\": \"name\"}\n",
    "\n",
    "draw(graph, options)"
   ]
  },
  {
   "cell_type": "markdown",
   "metadata": {},
   "source": [
    "## Relationships\n",
    "\n",
    "Create relationships between nodes with the `Relationship` class."
   ]
  },
  {
   "cell_type": "code",
   "execution_count": 3,
   "metadata": {
    "collapsed": false
   },
   "outputs": [
    {
     "data": {
      "text/html": [
       "\n",
       "        <iframe\n",
       "            width=\"500\"\n",
       "            height=\"300\"\n",
       "            src=\"figure/graph-a80f0941-b08b-4a51-99a1-14eeca34eb0a.html\"\n",
       "            frameborder=\"0\"\n",
       "            allowfullscreen\n",
       "        ></iframe>\n",
       "        "
      ],
      "text/plain": [
       "<IPython.lib.display.IFrame at 0x1031af550>"
      ]
     },
     "execution_count": 3,
     "metadata": {},
     "output_type": "execute_result"
    }
   ],
   "source": [
    "from py2neo import Relationship\n",
    "\n",
    "graph.create(Relationship(nicole, \"LIKES\", cokezero))\n",
    "graph.create(Relationship(nicole, \"LIKES\", mtdew))\n",
    "graph.create(Relationship(drew, \"LIKES\", mtdew))\n",
    "graph.create(Relationship(coke, \"MAKES\", cokezero))\n",
    "graph.create(Relationship(pepsi, \"MAKES\", mtdew))\n",
    "\n",
    "draw(graph, options)"
   ]
  },
  {
   "cell_type": "markdown",
   "metadata": {},
   "source": [
    "## Cypher\n",
    "\n",
    "Retrieve Cypher query results with `Graph.cypher.execute`."
   ]
  },
  {
   "cell_type": "code",
   "execution_count": 4,
   "metadata": {
    "collapsed": false
   },
   "outputs": [
    {
     "data": {
      "text/plain": [
       "   | name   | drink       \n",
       "---+--------+--------------\n",
       " 1 | Nicole | Mountain Dew\n",
       " 2 | Nicole | Coke Zero   \n",
       " 3 | Drew   | Mountain Dew"
      ]
     },
     "execution_count": 4,
     "metadata": {},
     "output_type": "execute_result"
    }
   ],
   "source": [
    "query = \"\"\"\n",
    "MATCH (person:Person)-[:LIKES]->(drink:Drink)\n",
    "RETURN person.name AS name, drink.name AS drink\n",
    "\"\"\"\n",
    "\n",
    "data = graph.cypher.execute(query)\n",
    "\n",
    "data"
   ]
  },
  {
   "cell_type": "markdown",
   "metadata": {},
   "source": [
    "Rows can be accessed by index."
   ]
  },
  {
   "cell_type": "code",
   "execution_count": 12,
   "metadata": {
    "collapsed": false
   },
   "outputs": [
    {
     "data": {
      "text/plain": [
       " name   | drink       \n",
       "--------+--------------\n",
       " Nicole | Mountain Dew"
      ]
     },
     "execution_count": 12,
     "metadata": {},
     "output_type": "execute_result"
    }
   ],
   "source": [
    "data[0]"
   ]
  },
  {
   "cell_type": "markdown",
   "metadata": {},
   "source": [
    "Columns can be accessed by key or attribute."
   ]
  },
  {
   "cell_type": "code",
   "execution_count": 13,
   "metadata": {
    "collapsed": false
   },
   "outputs": [
    {
     "name": "stdout",
     "output_type": "stream",
     "text": [
      "Nicole likes to drink Mountain Dew.\n",
      "Nicole likes to drink Coke Zero.\n",
      "Drew likes to drink Mountain Dew.\n"
     ]
    }
   ],
   "source": [
    "for row in data:\n",
    "    print \"{0} likes to drink {1}.\".format(row[\"name\"], row.drink)"
   ]
  },
  {
   "cell_type": "markdown",
   "metadata": {},
   "source": [
    "## Parameterized Cypher\n",
    "\n",
    "Pass parameters to Cypher queries by passing additional key-value arguments to `Graph.cypher.execute.` Parameters in Cypher are named and are wrapped in curly braces."
   ]
  },
  {
   "cell_type": "code",
   "execution_count": 14,
   "metadata": {
    "collapsed": false
   },
   "outputs": [
    {
     "data": {
      "text/plain": [
       "   | name   | avg_calories\n",
       "---+--------+--------------\n",
       " 1 | Nicole |       4500.0"
      ]
     },
     "execution_count": 14,
     "metadata": {},
     "output_type": "execute_result"
    }
   ],
   "source": [
    "# Average calorie intake of people who know {name}\n",
    "\n",
    "query = \"\"\"\n",
    "MATCH (p1:Person)-[:KNOWS]-(p2:Person)-[:LIKES]->(drink:Drink)\n",
    "WHERE p1.name = {name}\n",
    "RETURN p2.name AS name, AVG(drink.calories) AS avg_calories\n",
    "\"\"\"\n",
    "\n",
    "data = graph.cypher.execute(query, name=\"Drew\")\n",
    "\n",
    "data"
   ]
  }
 ],
 "metadata": {
  "kernelspec": {
   "display_name": "Python 2",
   "language": "python",
   "name": "python2"
  },
  "language_info": {
   "codemirror_mode": {
    "name": "ipython",
    "version": 2
   },
   "file_extension": ".py",
   "mimetype": "text/x-python",
   "name": "python",
   "nbconvert_exporter": "python",
   "pygments_lexer": "ipython2",
   "version": "2.7.6"
  }
 },
 "nbformat": 4,
 "nbformat_minor": 0
}
