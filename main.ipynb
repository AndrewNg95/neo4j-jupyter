{
 "cells": [
  {
   "cell_type": "markdown",
   "metadata": {},
   "source": [
    "# Data Science with Python and Neo4j\n",
    "\n",
    "## Packages You'll Need\n",
    "\n",
    "```\n",
    "pip install py2neo\n",
    "pip install ipython-cypher\n",
    "pip install pandas\n",
    "pip install networkx\n",
    "pip install python-igraph\n",
    "```\n",
    "\n",
    "## Contents\n",
    "\n",
    "### Basics\n",
    "\n",
    "* py2neo\n",
    "* ipython-cypher\n",
    "  - pandas\n",
    "  - NetworkX\n",
    "* igraph\n",
    "* vis.js\n",
    "\n",
    "### Example Project\n",
    "\n",
    "* Import Data into Neo4j\n",
    "* Predictive Modeling\n",
    "* Graph Algorithms\n",
    "* Visualizations"
   ]
  },
  {
   "cell_type": "code",
   "execution_count": null,
   "metadata": {
    "collapsed": true
   },
   "outputs": [],
   "source": []
  }
 ],
 "metadata": {
  "kernelspec": {
   "display_name": "Python 2",
   "language": "python",
   "name": "python2"
  },
  "language_info": {
   "codemirror_mode": {
    "name": "ipython",
    "version": 2
   },
   "file_extension": ".py",
   "mimetype": "text/x-python",
   "name": "python",
   "nbconvert_exporter": "python",
   "pygments_lexer": "ipython2",
   "version": "2.7.6"
  }
 },
 "nbformat": 4,
 "nbformat_minor": 0
}
