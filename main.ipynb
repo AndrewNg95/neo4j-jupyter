{
 "cells": [
  {
   "cell_type": "markdown",
   "metadata": {
    "slideshow": {
     "slide_type": "slide"
    }
   },
   "source": [
    "# Data Science with Python and Neo4j\n",
    "\n",
    "## Packages You'll Need\n",
    "\n",
    "```\n",
    "pip install py2neo\n",
    "pip install ipython-cypher\n",
    "pip install pandas\n",
    "pip install networkx\n",
    "pip install python-igraph\n",
    "```\n",
    "\n",
    "## Contents\n",
    "\n",
    "* py2neo\n",
    "* ipython-cypher\n",
    "  - pandas\n",
    "  - NetworkX\n",
    "* igraph\n",
    "* graph3d"
   ]
  },
  {
   "cell_type": "markdown",
   "metadata": {
    "slideshow": {
     "slide_type": "slide"
    }
   },
   "source": [
    "# py2neo\n",
    "\n",
    "`py2neo` is one of Neo4j's Python drivers. It offers a fully-featured interface for interacting with your data in Neo4j. Install `py2neo` with `pip install py2neo`.\n",
    "\n",
    "## Connect\n",
    "\n",
    "Connect to Neo4j with the `Graph` class."
   ]
  },
  {
   "cell_type": "code",
   "execution_count": 3,
   "metadata": {
    "collapsed": false,
    "slideshow": {
     "slide_type": "fragment"
    }
   },
   "outputs": [],
   "source": [
    "from py2neo import Graph\n",
    "from scripts.vis import draw\n",
    "\n",
    "graph = Graph()\n",
    "\n",
    "graph.delete_all()"
   ]
  },
  {
   "cell_type": "markdown",
   "metadata": {
    "slideshow": {
     "slide_type": "slide"
    }
   },
   "source": [
    "## Nodes\n",
    "\n",
    "Create nodes with the `Node` class. The first argument is the node's label. The remaining arguments are an arbitrary amount of node properties or key-value pairs."
   ]
  },
  {
   "cell_type": "code",
   "execution_count": 4,
   "metadata": {
    "collapsed": false,
    "slideshow": {
     "slide_type": "fragment"
    }
   },
   "outputs": [
    {
     "data": {
      "text/html": [
       "\n",
       "        <iframe\n",
       "            width=\"500\"\n",
       "            height=\"300\"\n",
       "            src=\"figure/graph-687b56f2-a691-4d42-b667-37461e6315c7.html\"\n",
       "            frameborder=\"0\"\n",
       "            allowfullscreen\n",
       "        ></iframe>\n",
       "        "
      ],
      "text/plain": [
       "<IPython.lib.display.IFrame at 0x11220cbd0>"
      ]
     },
     "execution_count": 4,
     "metadata": {},
     "output_type": "execute_result"
    }
   ],
   "source": [
    "from py2neo import Node\n",
    "\n",
    "nicole = Node(\"Person\", name=\"Nicole\", age=24)\n",
    "drew = Node(\"Person\", name=\"Drew\", age=20)\n",
    "\n",
    "mtdew = Node(\"Drink\", name=\"Mountain Dew\", calories=9000)\n",
    "cokezero = Node(\"Drink\", name=\"Coke Zero\", calories=0)\n",
    "\n",
    "coke = Node(\"Manufacturer\", name=\"Coca Cola\")\n",
    "pepsi = Node(\"Manufacturer\", name=\"Pepsi\")\n",
    "\n",
    "graph.create(nicole, drew, mtdew, cokezero, coke, pepsi)\n",
    "\n",
    "options = {\"Person\": \"name\", \"Drink\": \"name\", \"Manufacturer\": \"name\"}\n",
    "\n",
    "draw(graph, options)"
   ]
  },
  {
   "cell_type": "markdown",
   "metadata": {
    "slideshow": {
     "slide_type": "slide"
    }
   },
   "source": [
    "## Relationships\n",
    "\n",
    "Create relationships between nodes with the `Relationship` class."
   ]
  },
  {
   "cell_type": "code",
   "execution_count": 5,
   "metadata": {
    "collapsed": false,
    "slideshow": {
     "slide_type": "fragment"
    }
   },
   "outputs": [
    {
     "data": {
      "text/html": [
       "\n",
       "        <iframe\n",
       "            width=\"500\"\n",
       "            height=\"300\"\n",
       "            src=\"figure/graph-59e6c9e9-ef80-40d7-8201-6bec4649ef1b.html\"\n",
       "            frameborder=\"0\"\n",
       "            allowfullscreen\n",
       "        ></iframe>\n",
       "        "
      ],
      "text/plain": [
       "<IPython.lib.display.IFrame at 0x112228490>"
      ]
     },
     "execution_count": 5,
     "metadata": {},
     "output_type": "execute_result"
    }
   ],
   "source": [
    "from py2neo import Relationship\n",
    "\n",
    "graph.create(Relationship(nicole, \"LIKES\", cokezero))\n",
    "graph.create(Relationship(nicole, \"LIKES\", mtdew))\n",
    "graph.create(Relationship(drew, \"LIKES\", mtdew))\n",
    "graph.create(Relationship(coke, \"MAKES\", cokezero))\n",
    "graph.create(Relationship(pepsi, \"MAKES\", mtdew))\n",
    "\n",
    "draw(graph, options)"
   ]
  },
  {
   "cell_type": "markdown",
   "metadata": {
    "slideshow": {
     "slide_type": "slide"
    }
   },
   "source": [
    "## Cypher\n",
    "\n",
    "Retrieve Cypher query results with `Graph.cypher.execute`."
   ]
  },
  {
   "cell_type": "code",
   "execution_count": 6,
   "metadata": {
    "collapsed": false,
    "slideshow": {
     "slide_type": "fragment"
    }
   },
   "outputs": [
    {
     "data": {
      "text/plain": [
       "   | name   | drink       \n",
       "---+--------+--------------\n",
       " 1 | Nicole | Mountain Dew\n",
       " 2 | Nicole | Coke Zero   \n",
       " 3 | Drew   | Mountain Dew"
      ]
     },
     "execution_count": 6,
     "metadata": {},
     "output_type": "execute_result"
    }
   ],
   "source": [
    "query = \"\"\"\n",
    "MATCH (person:Person)-[:LIKES]->(drink:Drink)\n",
    "RETURN person.name AS name, drink.name AS drink\n",
    "\"\"\"\n",
    "\n",
    "data = graph.cypher.execute(query)\n",
    "\n",
    "data"
   ]
  },
  {
   "cell_type": "markdown",
   "metadata": {
    "slideshow": {
     "slide_type": "fragment"
    }
   },
   "source": [
    "Rows can be accessed by index."
   ]
  },
  {
   "cell_type": "code",
   "execution_count": 7,
   "metadata": {
    "collapsed": false,
    "slideshow": {
     "slide_type": "fragment"
    }
   },
   "outputs": [
    {
     "data": {
      "text/plain": [
       " name   | drink       \n",
       "--------+--------------\n",
       " Nicole | Mountain Dew"
      ]
     },
     "execution_count": 7,
     "metadata": {},
     "output_type": "execute_result"
    }
   ],
   "source": [
    "data[0]"
   ]
  },
  {
   "cell_type": "markdown",
   "metadata": {
    "slideshow": {
     "slide_type": "fragment"
    }
   },
   "source": [
    "Columns can be accessed by key or attribute."
   ]
  },
  {
   "cell_type": "code",
   "execution_count": 8,
   "metadata": {
    "collapsed": false,
    "slideshow": {
     "slide_type": "fragment"
    }
   },
   "outputs": [
    {
     "name": "stdout",
     "output_type": "stream",
     "text": [
      "Nicole likes to drink Mountain Dew.\n",
      "Nicole likes to drink Coke Zero.\n",
      "Drew likes to drink Mountain Dew.\n"
     ]
    }
   ],
   "source": [
    "for row in data:\n",
    "    print \"{0} likes to drink {1}.\".format(row[\"name\"], row.drink)"
   ]
  },
  {
   "cell_type": "markdown",
   "metadata": {
    "slideshow": {
     "slide_type": "slide"
    }
   },
   "source": [
    "## Parameterized Cypher\n",
    "\n",
    "Pass parameters to Cypher queries by passing additional key-value arguments to `Graph.cypher.execute.` Parameters in Cypher are named and are wrapped in curly braces."
   ]
  },
  {
   "cell_type": "code",
   "execution_count": 9,
   "metadata": {
    "collapsed": false,
    "slideshow": {
     "slide_type": "fragment"
    }
   },
   "outputs": [
    {
     "data": {
      "text/plain": [
       "   | name   | avg_calories\n",
       "---+--------+--------------\n",
       " 1 | Nicole |       4500.0"
      ]
     },
     "execution_count": 9,
     "metadata": {},
     "output_type": "execute_result"
    }
   ],
   "source": [
    "query = \"\"\"\n",
    "MATCH (p:Person)-[:LIKES]->(drink:Drink)\n",
    "WHERE p.name = {name}\n",
    "RETURN p.name AS name, AVG(drink.calories) AS avg_calories\n",
    "\"\"\"\n",
    "\n",
    "data = graph.cypher.execute(query, name=\"Nicole\")\n",
    "\n",
    "data"
   ]
  },
  {
   "cell_type": "markdown",
   "metadata": {
    "slideshow": {
     "slide_type": "slide"
    }
   },
   "source": [
    "# ipython-cypher\n",
    "\n",
    "`ipython-cypher` exposes `%cypher` magic in Jupyter. Install `ipython-cypher` with `pip install ipython-cypher`."
   ]
  },
  {
   "cell_type": "code",
   "execution_count": 10,
   "metadata": {
    "collapsed": true,
    "slideshow": {
     "slide_type": "fragment"
    }
   },
   "outputs": [],
   "source": [
    "%load_ext cypher"
   ]
  },
  {
   "cell_type": "markdown",
   "metadata": {
    "slideshow": {
     "slide_type": "slide"
    }
   },
   "source": [
    "## Cypher\n",
    "\n",
    "`%cypher` is intended for one-line Cypher queries and `%%cypher` is intended for multi-line Cypher queries. Placing `%%cypher` above a Cypher query will display that query's results."
   ]
  },
  {
   "cell_type": "code",
   "execution_count": 11,
   "metadata": {
    "collapsed": false,
    "slideshow": {
     "slide_type": "fragment"
    }
   },
   "outputs": [
    {
     "name": "stdout",
     "output_type": "stream",
     "text": [
      "3 rows affected.\n"
     ]
    },
    {
     "data": {
      "text/html": [
       "<table>\n",
       "    <tr>\n",
       "        <th>person.name</th>\n",
       "        <th>drink.name</th>\n",
       "        <th>drink.calories</th>\n",
       "    </tr>\n",
       "    <tr>\n",
       "        <td>Nicole</td>\n",
       "        <td>Mountain Dew</td>\n",
       "        <td>9000</td>\n",
       "    </tr>\n",
       "    <tr>\n",
       "        <td>Nicole</td>\n",
       "        <td>Coke Zero</td>\n",
       "        <td>0</td>\n",
       "    </tr>\n",
       "    <tr>\n",
       "        <td>Drew</td>\n",
       "        <td>Mountain Dew</td>\n",
       "        <td>9000</td>\n",
       "    </tr>\n",
       "</table>"
      ],
      "text/plain": [
       "[[u'Nicole', u'Mountain Dew', 9000],\n",
       " [u'Nicole', u'Coke Zero', 0],\n",
       " [u'Drew', u'Mountain Dew', 9000]]"
      ]
     },
     "execution_count": 11,
     "metadata": {},
     "output_type": "execute_result"
    }
   ],
   "source": [
    "%%cypher\n",
    "MATCH (person:Person)-[:LIKES]->(drink:Drink)\n",
    "RETURN person.name, drink.name, drink.calories"
   ]
  },
  {
   "cell_type": "markdown",
   "metadata": {
    "slideshow": {
     "slide_type": "slide"
    }
   },
   "source": [
    "## Pandas Data Frames\n",
    "\n",
    "Cypher query results can be coerced to `pandas` data frames with the `get_dataframe` method. To assign Cypher query results to a variable, you need to use `%cypher` and separate lines with \\\\. You'll first need to install `pandas` with `pip install pandas`."
   ]
  },
  {
   "cell_type": "code",
   "execution_count": 12,
   "metadata": {
    "collapsed": false,
    "slideshow": {
     "slide_type": "fragment"
    }
   },
   "outputs": [
    {
     "name": "stdout",
     "output_type": "stream",
     "text": [
      "3 rows affected.\n"
     ]
    },
    {
     "data": {
      "text/html": [
       "<div>\n",
       "<table border=\"1\" class=\"dataframe\">\n",
       "  <thead>\n",
       "    <tr style=\"text-align: right;\">\n",
       "      <th></th>\n",
       "      <th>name</th>\n",
       "      <th>drink</th>\n",
       "    </tr>\n",
       "  </thead>\n",
       "  <tbody>\n",
       "    <tr>\n",
       "      <th>0</th>\n",
       "      <td>Drew</td>\n",
       "      <td>Mountain Dew</td>\n",
       "    </tr>\n",
       "    <tr>\n",
       "      <th>1</th>\n",
       "      <td>Nicole</td>\n",
       "      <td>Mountain Dew</td>\n",
       "    </tr>\n",
       "    <tr>\n",
       "      <th>2</th>\n",
       "      <td>Nicole</td>\n",
       "      <td>Coke Zero</td>\n",
       "    </tr>\n",
       "  </tbody>\n",
       "</table>\n",
       "</div>"
      ],
      "text/plain": [
       "     name         drink\n",
       "0    Drew  Mountain Dew\n",
       "1  Nicole  Mountain Dew\n",
       "2  Nicole     Coke Zero"
      ]
     },
     "execution_count": 12,
     "metadata": {},
     "output_type": "execute_result"
    }
   ],
   "source": [
    "results = %cypher MATCH (person)-[:LIKES]->(drink:Drink) \\\n",
    "                  RETURN person.name AS name, drink.name AS drink\n",
    "    \n",
    "df = results.get_dataframe()\n",
    "\n",
    "df"
   ]
  },
  {
   "cell_type": "code",
   "execution_count": 13,
   "metadata": {
    "collapsed": false,
    "slideshow": {
     "slide_type": "fragment"
    }
   },
   "outputs": [
    {
     "data": {
      "text/plain": [
       "Int64Index([0, 1, 2], dtype='int64')"
      ]
     },
     "execution_count": 13,
     "metadata": {},
     "output_type": "execute_result"
    }
   ],
   "source": [
    "df.index"
   ]
  },
  {
   "cell_type": "code",
   "execution_count": 14,
   "metadata": {
    "collapsed": false,
    "slideshow": {
     "slide_type": "fragment"
    }
   },
   "outputs": [
    {
     "data": {
      "text/html": [
       "<div>\n",
       "<table border=\"1\" class=\"dataframe\">\n",
       "  <thead>\n",
       "    <tr style=\"text-align: right;\">\n",
       "      <th></th>\n",
       "      <th>name</th>\n",
       "      <th>drink</th>\n",
       "    </tr>\n",
       "  </thead>\n",
       "  <tbody>\n",
       "    <tr>\n",
       "      <th>1</th>\n",
       "      <td>Nicole</td>\n",
       "      <td>Mountain Dew</td>\n",
       "    </tr>\n",
       "  </tbody>\n",
       "</table>\n",
       "</div>"
      ],
      "text/plain": [
       "     name         drink\n",
       "1  Nicole  Mountain Dew"
      ]
     },
     "execution_count": 14,
     "metadata": {},
     "output_type": "execute_result"
    }
   ],
   "source": [
    "df.iloc[[1]]"
   ]
  },
  {
   "cell_type": "code",
   "execution_count": 15,
   "metadata": {
    "collapsed": false,
    "slideshow": {
     "slide_type": "fragment"
    }
   },
   "outputs": [
    {
     "data": {
      "text/plain": [
       "0      Drew\n",
       "1    Nicole\n",
       "2    Nicole\n",
       "Name: name, dtype: object"
      ]
     },
     "execution_count": 15,
     "metadata": {},
     "output_type": "execute_result"
    }
   ],
   "source": [
    "df[\"name\"]"
   ]
  },
  {
   "cell_type": "markdown",
   "metadata": {
    "slideshow": {
     "slide_type": "slide"
    }
   },
   "source": [
    "# NetworkX Graphs\n",
    "\n",
    "Cypher query results can be coerced to `NetworkX` MultiDiGraphs, graphs that permit multiple edges between nodes, with the `get_graph` method. You'll first need to install `NetworkX` with `pip install networkx`."
   ]
  },
  {
   "cell_type": "code",
   "execution_count": 16,
   "metadata": {
    "collapsed": false,
    "slideshow": {
     "slide_type": "fragment"
    }
   },
   "outputs": [
    {
     "name": "stdout",
     "output_type": "stream",
     "text": [
      "3 rows affected.\n"
     ]
    },
    {
     "data": {
      "image/png": "[encoded data removed]",
      "text/plain": [
       "<matplotlib.figure.Figure at 0x11469af50>"
      ]
     },
     "metadata": {},
     "output_type": "display_data"
    }
   ],
   "source": [
    "import networkx as nx\n",
    "%matplotlib inline\n",
    "\n",
    "results = %cypher MATCH p = (:Person)-[:LIKES]->(:Drink) RETURN p\n",
    "\n",
    "g = results.get_graph()\n",
    "\n",
    "nx.draw(g)"
   ]
  },
  {
   "cell_type": "code",
   "execution_count": 17,
   "metadata": {
    "collapsed": false,
    "slideshow": {
     "slide_type": "fragment"
    }
   },
   "outputs": [
    {
     "data": {
      "text/plain": [
       "[(u'13', {u'age': 20, 'labels': [u'Person'], u'name': u'Drew'}),\n",
       " (u'12', {u'age': 24, 'labels': [u'Person'], u'name': u'Nicole'}),\n",
       " (u'15', {u'calories': 0, 'labels': [u'Drink'], u'name': u'Coke Zero'}),\n",
       " (u'14', {u'calories': 9000, 'labels': [u'Drink'], u'name': u'Mountain Dew'})]"
      ]
     },
     "execution_count": 17,
     "metadata": {},
     "output_type": "execute_result"
    }
   ],
   "source": [
    "g.nodes(data=True)"
   ]
  },
  {
   "cell_type": "code",
   "execution_count": 18,
   "metadata": {
    "collapsed": false,
    "slideshow": {
     "slide_type": "fragment"
    }
   },
   "outputs": [
    {
     "data": {
      "text/plain": [
       "{u'12': 2, u'13': 1, u'14': 2, u'15': 1}"
      ]
     },
     "execution_count": 18,
     "metadata": {},
     "output_type": "execute_result"
    }
   ],
   "source": [
    "nx.degree(g)"
   ]
  },
  {
   "cell_type": "markdown",
   "metadata": {
    "slideshow": {
     "slide_type": "slide"
    }
   },
   "source": [
    "# igraph\n",
    "\n",
    "Cypher query results can be imported into `igraph` with `py2neo`. You'll need to install `igraph` with `pip install python-igraph`. Query results should be returned as edgelists, as `igraph` has a method for building an `igraph` object from a list of tuples representing edges between nodes."
   ]
  },
  {
   "cell_type": "code",
   "execution_count": 19,
   "metadata": {
    "collapsed": false,
    "slideshow": {
     "slide_type": "fragment"
    }
   },
   "outputs": [
    {
     "data": {
      "text/plain": [
       "   | person.name | drink.name  \n",
       "---+-------------+--------------\n",
       " 1 | Nicole      | Mountain Dew\n",
       " 2 | Nicole      | Coke Zero   \n",
       " 3 | Drew        | Mountain Dew"
      ]
     },
     "execution_count": 19,
     "metadata": {},
     "output_type": "execute_result"
    }
   ],
   "source": [
    "from py2neo import Graph as PGraph\n",
    "from igraph import Graph as IGraph\n",
    "\n",
    "neo4j = PGraph()\n",
    "\n",
    "query = \"\"\"\n",
    "MATCH (person:Person)-[:LIKES]->(drink:Drink)\n",
    "RETURN person.name, drink.name\n",
    "\"\"\"\n",
    "\n",
    "data = neo4j.cypher.execute(query)\n",
    "data"
   ]
  },
  {
   "cell_type": "code",
   "execution_count": 22,
   "metadata": {
    "collapsed": false,
    "slideshow": {
     "slide_type": "fragment"
    }
   },
   "outputs": [
    {
     "data": {
      "text/plain": [
       "<igraph.Graph at 0x1147dd050>"
      ]
     },
     "execution_count": 22,
     "metadata": {},
     "output_type": "execute_result"
    }
   ],
   "source": [
    "ig = IGraph.TupleList(data)\n",
    "\n",
    "ig"
   ]
  },
  {
   "cell_type": "code",
   "execution_count": 23,
   "metadata": {
    "collapsed": false,
    "slideshow": {
     "slide_type": "fragment"
    }
   },
   "outputs": [
    {
     "data": {
      "text/plain": [
       "[u'Nicole', u'Mountain Dew']"
      ]
     },
     "execution_count": 23,
     "metadata": {},
     "output_type": "execute_result"
    }
   ],
   "source": [
    "best = ig.vs.select(_degree = ig.maxdegree())[\"name\"]\n",
    "best"
   ]
  },
  {
   "cell_type": "markdown",
   "metadata": {
    "collapsed": true,
    "slideshow": {
     "slide_type": "slide"
    }
   },
   "source": [
    "## graph3d\n",
    "\n",
    "`graph3d`, originally named `igraph` but which I've renamed to avoid conflicts with the other `igraph`, will plot tuple lists as 3D graphs."
   ]
  },
  {
   "cell_type": "code",
   "execution_count": 29,
   "metadata": {
    "collapsed": false,
    "slideshow": {
     "slide_type": "fragment"
    }
   },
   "outputs": [
    {
     "data": {
      "text/html": [
       "<div id=\"graph-11e32b52-43ac-4bcc-8fe9-5ff08464bd93\"></div>\n",
       "           <script type=\"text/javascript\">\n",
       "           require.config({baseUrl: '/',\n",
       "                             paths: {igraph: ['nbextensions/igraph.min', 'https://rawgit.com/patrickfuller/igraph/master/js/build/igraph.min']}});\n",
       "           require(['igraph'], function () {\n",
       "               var $d = $('#graph-11e32b52-43ac-4bcc-8fe9-5ff08464bd93');\n",
       "               $d.width(600); $d.height(400);\n",
       "               $d.igraph = jQuery.extend({}, igraph);\n",
       "               $d.igraph.create($d, {nodeSize: 2.000000,\n",
       "                                     edgeSize: 0.250000,\n",
       "                                     defaultNodeColor: '0x5bc0de',\n",
       "                                     defaultEdgeColor: '0xaaaaaa',\n",
       "                                     shader: 'basic',\n",
       "                                     z: 100,\n",
       "                                     runOptimization: true,\n",
       "                                     directed: true});\n",
       "               $d.igraph.draw({\n",
       "    \"edges\": [\n",
       "        { \"source\": 1, \"target\": 2 },\n",
       "        { \"source\": 2, \"target\": 3 },\n",
       "        { \"source\": 3, \"target\": 4 },\n",
       "        { \"source\": 4, \"target\": 1 },\n",
       "        { \"source\": 4, \"target\": 5 },\n",
       "        { \"source\": 5, \"target\": 2 }\n",
       "    ],\n",
       "    \"nodes\": {\n",
       "        \"1\": { \"location\": [ -2.000, -2.000, -2.000 ] },\n",
       "        \"2\": { \"location\": [ -0.942, -1.025, -0.978 ] },\n",
       "        \"3\": { \"location\": [ -0.080, 0.461, 0.173 ] },\n",
       "        \"4\": { \"location\": [ 0.930, 0.944, 1.104 ] },\n",
       "        \"5\": { \"location\": [ 2.000, 2.000, 2.000 ] }\n",
       "    }\n",
       "});\n",
       "\n",
       "               $d.resizable({\n",
       "                   aspectRatio: 600 / 400,\n",
       "                   resize: function (evt, ui) {\n",
       "                       $d.igraph.renderer.setSize(ui.size.width,\n",
       "                                                  ui.size.height);\n",
       "                   }\n",
       "               });\n",
       "           });\n",
       "           </script>"
      ],
      "text/plain": [
       "<IPython.core.display.HTML object>"
      ]
     },
     "metadata": {},
     "output_type": "display_data"
    }
   ],
   "source": [
    "import graph3d\n",
    "\n",
    "graph3d.draw([(1, 2), (2, 3), (3, 4), (4, 1), (4, 5), (5, 2)])"
   ]
  },
  {
   "cell_type": "markdown",
   "metadata": {
    "slideshow": {
     "slide_type": "slide"
    }
   },
   "source": [
    "We can visualize our Neo4j data by pulling out an edgelist with a Cypher query."
   ]
  },
  {
   "cell_type": "code",
   "execution_count": 43,
   "metadata": {
    "collapsed": false,
    "slideshow": {
     "slide_type": "fragment"
    }
   },
   "outputs": [
    {
     "data": {
      "text/html": [
       "<div id=\"graph-1b42c583-5f01-40f5-8da1-13b654b44994\"></div>\n",
       "           <script type=\"text/javascript\">\n",
       "           require.config({baseUrl: '/',\n",
       "                             paths: {igraph: ['nbextensions/igraph.min', 'https://rawgit.com/patrickfuller/igraph/master/js/build/igraph.min']}});\n",
       "           require(['igraph'], function () {\n",
       "               var $d = $('#graph-1b42c583-5f01-40f5-8da1-13b654b44994');\n",
       "               $d.width(600); $d.height(400);\n",
       "               $d.igraph = jQuery.extend({}, igraph);\n",
       "               $d.igraph.create($d, {nodeSize: 2.000000,\n",
       "                                     edgeSize: 0.250000,\n",
       "                                     defaultNodeColor: '0x5bc0de',\n",
       "                                     defaultEdgeColor: '0xaaaaaa',\n",
       "                                     shader: 'basic',\n",
       "                                     z: 100,\n",
       "                                     runOptimization: true,\n",
       "                                     directed: true});\n",
       "               $d.igraph.draw({\n",
       "    \"edges\": [\n",
       "        { \"source\": 12, \"target\": 14 },\n",
       "        { \"source\": 12, \"target\": 15 },\n",
       "        { \"source\": 13, \"target\": 14 },\n",
       "        { \"source\": 16, \"target\": 15 },\n",
       "        { \"source\": 17, \"target\": 14 }\n",
       "    ],\n",
       "    \"nodes\": {\n",
       "        \"12\": { \"location\": [ -2.000, -2.000, -2.000 ] },\n",
       "        \"13\": { \"location\": [ -1.542, -1.555, -1.749 ] },\n",
       "        \"14\": { \"location\": [ -0.439, -0.345, -1.058 ] },\n",
       "        \"15\": { \"location\": [ 0.435, 0.546, 0.420 ] },\n",
       "        \"16\": { \"location\": [ 2.000, 1.526, 1.718 ] },\n",
       "        \"17\": { \"location\": [ 2.000, 2.000, 2.000 ] }\n",
       "    }\n",
       "});\n",
       "\n",
       "               $d.resizable({\n",
       "                   aspectRatio: 600 / 400,\n",
       "                   resize: function (evt, ui) {\n",
       "                       $d.igraph.renderer.setSize(ui.size.width,\n",
       "                                                  ui.size.height);\n",
       "                   }\n",
       "               });\n",
       "           });\n",
       "           </script>"
      ],
      "text/plain": [
       "<IPython.core.display.HTML object>"
      ]
     },
     "metadata": {},
     "output_type": "display_data"
    }
   ],
   "source": [
    "from py2neo import Graph\n",
    "\n",
    "graph = Graph()\n",
    "\n",
    "data = graph.cypher.execute(\"MATCH (n)-->(m) RETURN ID(n), ID(m)\")\n",
    "data = [tuple(x) for x in data]\n",
    "\n",
    "graph3d.draw(data)"
   ]
  }
 ],
 "metadata": {
  "celltoolbar": "Slideshow",
  "kernelspec": {
   "display_name": "Python 2",
   "language": "python",
   "name": "python2"
  },
  "language_info": {
   "codemirror_mode": {
    "name": "ipython",
    "version": 2
   },
   "file_extension": ".py",
   "mimetype": "text/x-python",
   "name": "python",
   "nbconvert_exporter": "python",
   "pygments_lexer": "ipython2",
   "version": "2.7.6"
  }
 },
 "nbformat": 4,
 "nbformat_minor": 0
}
