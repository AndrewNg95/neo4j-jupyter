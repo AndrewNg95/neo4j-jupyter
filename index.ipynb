{
 "cells": [
  {
   "cell_type": "markdown",
   "metadata": {},
   "source": [
    "# Graphs with Python and Neo4j by @_nicolemargaret\n",
    "\n",
    "## Agenda\n",
    "\n",
    "### Introduction to Neo4j (20 minutes)\n",
    "\n",
    "* What is a graph?\n",
    "* What is Neo4j?\n",
    "* Data Modeling\n",
    "* Cypher\n",
    "\n",
    "### [Hello World](hello-world.html) (30 minutes)\n",
    "\n",
    "* `py2neo`\n",
    "* `ipython-cypher`\n",
    "  - `pandas`\n",
    "  - `NetworkX`\n",
    "* `igraph`\n",
    "* `jgraph`\n",
    "\n",
    "### Break (10 minutes)\n",
    "\n",
    "### [Example Project](twitter.html) (20 minutes)\n",
    "\n",
    "* Import Twitter Data\n",
    "* Charts\n",
    "* Graph Algorithms\n",
    "* Graph Visualizations\n",
    "\n",
    "### [Workshop](workshop.html) (30 minutes)\n",
    "* [Graph Your Twitter Network](http://network.graphdemos.com)\n",
    "* Authenticate with `py2neo`\n",
    "* Authenticate with `ipython-cypher`\n",
    "* Charts\n",
    "* Graph Algorithms"
   ]
  }
 ],
 "metadata": {
  "kernelspec": {
   "display_name": "Python 2",
   "language": "python",
   "name": "python2"
  },
  "language_info": {
   "codemirror_mode": {
    "name": "ipython",
    "version": 2
   },
   "file_extension": ".py",
   "mimetype": "text/x-python",
   "name": "python",
   "nbconvert_exporter": "python",
   "pygments_lexer": "ipython2",
   "version": "2.7.10"
  }
 },
 "nbformat": 4,
 "nbformat_minor": 0
}
