{
 "cells": [
  {
   "cell_type": "markdown",
   "metadata": {
    "slideshow": {
     "slide_type": "slide"
    }
   },
   "source": [
    "# Example Project\n",
    "\n",
    "We're going to import Twitter data into Neo4j and then do various analysis on top of this dataset including plotting, graph algorithms, and graph visualizations.\n",
    "\n",
    "* Import\n",
    "* Plotting / Charting\n",
    "* Graph Algorithms\n",
    "* Graph Visualization"
   ]
  },
  {
   "cell_type": "markdown",
   "metadata": {
    "slideshow": {
     "slide_type": "slide"
    }
   },
   "source": [
    "# Import\n",
    "\n",
    "The script for importing data from Twitter's API is in [`scripts/twitter.py`](https://github.com/nicolewhite/neo4j-jupyter/blob/master/scripts/twitter.py). This was used to upload tweets that contained either the words \"ddtx16\" or \"datadaytexas\" to Neo4j."
   ]
  },
  {
   "cell_type": "markdown",
   "metadata": {
    "slideshow": {
     "slide_type": "subslide"
    }
   },
   "source": [
    "## Packages"
   ]
  },
  {
   "cell_type": "code",
   "execution_count": 2,
   "metadata": {
    "collapsed": true,
    "slideshow": {
     "slide_type": "fragment"
    }
   },
   "outputs": [],
   "source": [
    "import os\n",
    "import sys\n",
    "import time\n",
    "import requests\n",
    "from py2neo import Graph, Relationship"
   ]
  },
  {
   "cell_type": "markdown",
   "metadata": {
    "slideshow": {
     "slide_type": "subslide"
    }
   },
   "source": [
    "## Uniqueness Constraints\n",
    "\n",
    "Neo4j supports uniqueness constraints on given label, property pairs."
   ]
  },
  {
   "cell_type": "code",
   "execution_count": null,
   "metadata": {
    "collapsed": false,
    "slideshow": {
     "slide_type": "fragment"
    }
   },
   "outputs": [],
   "source": [
    "graph = Graph()\n",
    "\n",
    "graph.cypher.execute(\"CREATE CONSTRAINT ON (u:User) ASSERT u.username IS UNIQUE\")\n",
    "graph.cypher.execute(\"CREATE CONSTRAINT ON (t:Tweet) ASSERT t.id IS UNIQUE\")\n",
    "graph.cypher.execute(\"CREATE CONSTRAINT ON (h:Hashtag) ASSERT h.name IS UNIQUE\")"
   ]
  },
  {
   "cell_type": "markdown",
   "metadata": {
    "slideshow": {
     "slide_type": "subslide"
    }
   },
   "source": [
    "## Twitter API"
   ]
  },
  {
   "cell_type": "code",
   "execution_count": null,
   "metadata": {
    "collapsed": true,
    "slideshow": {
     "slide_type": "fragment"
    }
   },
   "outputs": [],
   "source": [
    "TWITTER_BEARER = os.environ[\"TWITTER_BEARER\"]\n",
    "\n",
    "headers = dict(accept=\"application/json\", Authorization=\"Bearer \" + TWITTER_BEARER)\n",
    "\n",
    "payload = dict(\n",
    "    count=100,\n",
    "    result_type=\"recent\",\n",
    "    lang=\"en\",\n",
    "    q=sys.argv[1]\n",
    ")\n",
    "\n",
    "base_url = \"https://api.twitter.com/1.1/search/tweets.json?\""
   ]
  },
  {
   "cell_type": "markdown",
   "metadata": {
    "slideshow": {
     "slide_type": "subslide"
    }
   },
   "source": [
    "## Find Tweets"
   ]
  },
  {
   "cell_type": "code",
   "execution_count": 9,
   "metadata": {
    "collapsed": true,
    "slideshow": {
     "slide_type": "fragment"
    }
   },
   "outputs": [],
   "source": [
    "def find_tweets(since_id):\n",
    "    payload[\"since_id\"] = since_id\n",
    "    url = base_url + \"q={q}&count={count}&result_type={result_type}&lang={lang}&since_id={since_id}\".format(**payload)\n",
    "\n",
    "    r = requests.get(url, headers=headers)\n",
    "    tweets = r.json()[\"statuses\"]\n",
    "\n",
    "    return tweets"
   ]
  },
  {
   "cell_type": "markdown",
   "metadata": {
    "slideshow": {
     "slide_type": "subslide"
    }
   },
   "source": [
    "## Upload Tweets to Neo4j"
   ]
  },
  {
   "cell_type": "code",
   "execution_count": 11,
   "metadata": {
    "collapsed": true,
    "slideshow": {
     "slide_type": "fragment"
    }
   },
   "outputs": [],
   "source": [
    "def upload_tweets(tweets):\n",
    "    for t in tweets:\n",
    "        u = t[\"user\"]\n",
    "        e = t[\"entities\"]\n",
    "\n",
    "        tweet = graph.merge_one(\"Tweet\", \"id\", t[\"id\"])\n",
    "        tweet.properties[\"text\"] = t[\"text\"]\n",
    "        tweet.push()\n",
    "\n",
    "        user = graph.merge_one(\"User\", \"username\", u[\"screen_name\"])\n",
    "        graph.create_unique(Relationship(user, \"POSTS\", tweet))\n",
    "\n",
    "        for h in e.get(\"hashtags\", []):\n",
    "            hashtag = graph.merge_one(\"Hashtag\", \"name\", h[\"text\"].lower())\n",
    "            graph.create_unique(Relationship(hashtag, \"TAGS\", tweet))\n",
    "\n",
    "        for m in e.get('user_mentions', []):\n",
    "            mention = graph.merge_one(\"User\", \"username\", m[\"screen_name\"])\n",
    "            graph.create_unique(Relationship(tweet, \"MENTIONS\", mention))\n",
    "\n",
    "        reply = t.get(\"in_reply_to_status_id\")\n",
    "\n",
    "        if reply:\n",
    "            reply_tweet = graph.merge_one(\"Tweet\", \"id\", reply)\n",
    "            graph.create_unique(Relationship(tweet, \"REPLY_TO\", reply_tweet))\n",
    "\n",
    "        ret = t.get(\"retweeted_status\", {}).get(\"id\")\n",
    "\n",
    "        if ret:\n",
    "            retweet = graph.merge_one(\"Tweet\", \"id\", ret)\n",
    "            graph.create_unique(Relationship(tweet, \"RETWEETS\", retweet))"
   ]
  },
  {
   "cell_type": "markdown",
   "metadata": {
    "slideshow": {
     "slide_type": "subslide"
    }
   },
   "source": [
    "## Run It!"
   ]
  },
  {
   "cell_type": "code",
   "execution_count": null,
   "metadata": {
    "collapsed": true,
    "slideshow": {
     "slide_type": "fragment"
    }
   },
   "outputs": [],
   "source": [
    "while True:\n",
    "    try:\n",
    "        tweets = find_tweets(since_id=since_id)\n",
    "\n",
    "        if not tweets:\n",
    "            print \"No tweets found.\"\n",
    "            time.sleep(60)\n",
    "            continue\n",
    "\n",
    "        since_id = tweets[0].get(\"id\")\n",
    "        upload_tweets(tweets)\n",
    "\n",
    "        print \"{} tweets uploaded!\".format(len(tweets))\n",
    "        time.sleep(60)\n",
    "\n",
    "    except Exception, e:\n",
    "        print e\n",
    "        time.sleep(60)\n",
    "        continue"
   ]
  },
  {
   "cell_type": "markdown",
   "metadata": {
    "slideshow": {
     "slide_type": "subslide"
    }
   },
   "source": [
    "## Visualize the Model"
   ]
  },
  {
   "cell_type": "code",
   "execution_count": 4,
   "metadata": {
    "collapsed": false,
    "slideshow": {
     "slide_type": "fragment"
    }
   },
   "outputs": [
    {
     "data": {
      "text/html": [
       "\n",
       "        <iframe\n",
       "            width=\"100%\"\n",
       "            height=\"400\"\n",
       "            src=\"figure/graph-5a6ac6c1-6f85-4672-a87b-3611600bbe2b.html\"\n",
       "            frameborder=\"0\"\n",
       "            allowfullscreen\n",
       "        ></iframe>\n",
       "        "
      ],
      "text/plain": [
       "<IPython.lib.display.IFrame at 0x10bbb54d0>"
      ]
     },
     "execution_count": 4,
     "metadata": {},
     "output_type": "execute_result"
    }
   ],
   "source": [
    "from scripts.vis import draw\n",
    "options = {\"User\": \"username\", \"Hashtag\": \"name\"}\n",
    "\n",
    "draw(graph, options, physics=True, limit=30)"
   ]
  },
  {
   "cell_type": "markdown",
   "metadata": {
    "slideshow": {
     "slide_type": "slide"
    }
   },
   "source": [
    "# Plotting\n",
    "\n",
    "Let's gather some basic insights by creating `plotly` charts."
   ]
  },
  {
   "cell_type": "markdown",
   "metadata": {
    "slideshow": {
     "slide_type": "subslide"
    }
   },
   "source": [
    "## Packages"
   ]
  },
  {
   "cell_type": "code",
   "execution_count": 7,
   "metadata": {
    "collapsed": false,
    "slideshow": {
     "slide_type": "fragment"
    }
   },
   "outputs": [],
   "source": [
    "%load_ext cypher\n",
    "import plotly.plotly as py\n",
    "from plotly.graph_objs import *"
   ]
  },
  {
   "cell_type": "markdown",
   "metadata": {
    "slideshow": {
     "slide_type": "subslide"
    }
   },
   "source": [
    "## What are the top hashtags?\n",
    "\n",
    "Find hashtags ordered by the number of tweets they've tagged."
   ]
  },
  {
   "cell_type": "code",
   "execution_count": 6,
   "metadata": {
    "collapsed": false,
    "slideshow": {
     "slide_type": "fragment"
    }
   },
   "outputs": [
    {
     "name": "stdout",
     "output_type": "stream",
     "text": [
      "5 rows affected.\n"
     ]
    },
    {
     "data": {
      "text/html": [
       "<div>\n",
       "<table border=\"1\" class=\"dataframe\">\n",
       "  <thead>\n",
       "    <tr style=\"text-align: right;\">\n",
       "      <th></th>\n",
       "      <th>hashtag</th>\n",
       "      <th>tweets</th>\n",
       "    </tr>\n",
       "  </thead>\n",
       "  <tbody>\n",
       "    <tr>\n",
       "      <th>0</th>\n",
       "      <td>datadaytexas</td>\n",
       "      <td>17</td>\n",
       "    </tr>\n",
       "    <tr>\n",
       "      <th>1</th>\n",
       "      <td>spark</td>\n",
       "      <td>9</td>\n",
       "    </tr>\n",
       "    <tr>\n",
       "      <th>2</th>\n",
       "      <td>storm</td>\n",
       "      <td>6</td>\n",
       "    </tr>\n",
       "    <tr>\n",
       "      <th>3</th>\n",
       "      <td>datascience</td>\n",
       "      <td>5</td>\n",
       "    </tr>\n",
       "    <tr>\n",
       "      <th>4</th>\n",
       "      <td>nlproc</td>\n",
       "      <td>4</td>\n",
       "    </tr>\n",
       "  </tbody>\n",
       "</table>\n",
       "</div>"
      ],
      "text/plain": [
       "        hashtag  tweets\n",
       "0  datadaytexas      17\n",
       "1         spark       9\n",
       "2         storm       6\n",
       "3   datascience       5\n",
       "4        nlproc       4"
      ]
     },
     "execution_count": 6,
     "metadata": {},
     "output_type": "execute_result"
    }
   ],
   "source": [
    "result = %cypher MATCH (hashtag:Hashtag)-[:TAGS]->(tweet:Tweet)         \\\n",
    "                 WHERE hashtag.name <> 'ddtx16'                         \\\n",
    "                 RETURN hashtag.name AS hashtag, COUNT(tweet) AS tweets \\\n",
    "                 ORDER BY tweets DESC LIMIT 5\n",
    "        \n",
    "df = result.get_dataframe()\n",
    "df.head()"
   ]
  },
  {
   "cell_type": "code",
   "execution_count": 7,
   "metadata": {
    "collapsed": false,
    "slideshow": {
     "slide_type": "subslide"
    }
   },
   "outputs": [
    {
     "data": {
      "image/png": "[encoded data removed]",
      "text/plain": [
       "<IPython.core.display.Image object>"
      ]
     },
     "metadata": {},
     "output_type": "display_data"
    }
   ],
   "source": [
    "data = Data([Bar(x=df[\"hashtag\"], y=df[\"tweets\"])])\n",
    "\n",
    "py.image.ishow({'data': data})"
   ]
  },
  {
   "cell_type": "markdown",
   "metadata": {
    "slideshow": {
     "slide_type": "subslide"
    }
   },
   "source": [
    "## What's the hashtag and mention count distribution?"
   ]
  },
  {
   "cell_type": "code",
   "execution_count": 8,
   "metadata": {
    "collapsed": false,
    "slideshow": {
     "slide_type": "fragment"
    }
   },
   "outputs": [
    {
     "name": "stdout",
     "output_type": "stream",
     "text": [
      "423 rows affected.\n"
     ]
    },
    {
     "data": {
      "text/html": [
       "<div>\n",
       "<table border=\"1\" class=\"dataframe\">\n",
       "  <thead>\n",
       "    <tr style=\"text-align: right;\">\n",
       "      <th></th>\n",
       "      <th>hashtags</th>\n",
       "      <th>mentions</th>\n",
       "    </tr>\n",
       "  </thead>\n",
       "  <tbody>\n",
       "    <tr>\n",
       "      <th>0</th>\n",
       "      <td>1</td>\n",
       "      <td>2</td>\n",
       "    </tr>\n",
       "    <tr>\n",
       "      <th>1</th>\n",
       "      <td>1</td>\n",
       "      <td>0</td>\n",
       "    </tr>\n",
       "    <tr>\n",
       "      <th>2</th>\n",
       "      <td>1</td>\n",
       "      <td>2</td>\n",
       "    </tr>\n",
       "    <tr>\n",
       "      <th>3</th>\n",
       "      <td>1</td>\n",
       "      <td>1</td>\n",
       "    </tr>\n",
       "    <tr>\n",
       "      <th>4</th>\n",
       "      <td>1</td>\n",
       "      <td>1</td>\n",
       "    </tr>\n",
       "  </tbody>\n",
       "</table>\n",
       "</div>"
      ],
      "text/plain": [
       "   hashtags  mentions\n",
       "0         1         2\n",
       "1         1         0\n",
       "2         1         2\n",
       "3         1         1\n",
       "4         1         1"
      ]
     },
     "execution_count": 8,
     "metadata": {},
     "output_type": "execute_result"
    }
   ],
   "source": [
    "result = %cypher MATCH (tweet:Tweet)                                   \\\n",
    "                 RETURN tweet.id,                                      \\\n",
    "                        SIZE((:Hashtag)-[:TAGS]->(tweet)) AS hashtags, \\\n",
    "                        SIZE((tweet)-[:MENTIONS]->(:User)) AS mentions\n",
    "            \n",
    "df = result.get_dataframe()\n",
    "del df[\"tweet.id\"]\n",
    "df.head()"
   ]
  },
  {
   "cell_type": "code",
   "execution_count": 9,
   "metadata": {
    "collapsed": false,
    "slideshow": {
     "slide_type": "subslide"
    }
   },
   "outputs": [
    {
     "data": {
      "image/png": "[encoded data removed]",
      "text/plain": [
       "<IPython.core.display.Image object>"
      ]
     },
     "metadata": {},
     "output_type": "display_data"
    }
   ],
   "source": [
    "hashtags = Histogram(x=df[\"hashtags\"], opacity=0.75, name=\"Hashtags\")\n",
    "mentions = Histogram(x=df[\"mentions\"], opacity=0.75, name=\"Mentions\")\n",
    "data = Data([hashtags, mentions])\n",
    "layout = Layout(barmode=\"overlay\")\n",
    "fig = Figure(data=data, layout=layout)\n",
    "\n",
    "py.image.ishow(fig)"
   ]
  },
  {
   "cell_type": "markdown",
   "metadata": {
    "slideshow": {
     "slide_type": "subslide"
    }
   },
   "source": [
    "## Heatmap of hashtag co-occurrence"
   ]
  },
  {
   "cell_type": "code",
   "execution_count": 57,
   "metadata": {
    "collapsed": false,
    "slideshow": {
     "slide_type": "fragment"
    }
   },
   "outputs": [
    {
     "name": "stdout",
     "output_type": "stream",
     "text": [
      "10 rows affected.\n"
     ]
    },
    {
     "data": {
      "text/html": [
       "<div>\n",
       "<table border=\"1\" class=\"dataframe\">\n",
       "  <thead>\n",
       "    <tr style=\"text-align: right;\">\n",
       "      <th></th>\n",
       "      <th>h1.name</th>\n",
       "      <th>h2.name</th>\n",
       "      <th>weight</th>\n",
       "    </tr>\n",
       "  </thead>\n",
       "  <tbody>\n",
       "    <tr>\n",
       "      <th>0</th>\n",
       "      <td>datadaytexas</td>\n",
       "      <td>rstats</td>\n",
       "      <td>1</td>\n",
       "    </tr>\n",
       "    <tr>\n",
       "      <th>1</th>\n",
       "      <td>datadaytexas</td>\n",
       "      <td>geekaustin</td>\n",
       "      <td>3</td>\n",
       "    </tr>\n",
       "    <tr>\n",
       "      <th>2</th>\n",
       "      <td>spark</td>\n",
       "      <td>storm</td>\n",
       "      <td>6</td>\n",
       "    </tr>\n",
       "    <tr>\n",
       "      <th>3</th>\n",
       "      <td>datadaytexas</td>\n",
       "      <td>ibm</td>\n",
       "      <td>2</td>\n",
       "    </tr>\n",
       "    <tr>\n",
       "      <th>4</th>\n",
       "      <td>datadaytexas</td>\n",
       "      <td>technology</td>\n",
       "      <td>4</td>\n",
       "    </tr>\n",
       "  </tbody>\n",
       "</table>\n",
       "</div>"
      ],
      "text/plain": [
       "        h1.name     h2.name  weight\n",
       "0  datadaytexas      rstats       1\n",
       "1  datadaytexas  geekaustin       3\n",
       "2         spark       storm       6\n",
       "3  datadaytexas         ibm       2\n",
       "4  datadaytexas  technology       4"
      ]
     },
     "execution_count": 57,
     "metadata": {},
     "output_type": "execute_result"
    }
   ],
   "source": [
    "result = %cypher MATCH (h:Hashtag)                           \\\n",
    "                 WHERE h.name <> \"ddtx16\"                    \\\n",
    "                 WITH h, SIZE((h)-[:TAGS]->(:Tweet)) AS tags \\\n",
    "                 ORDER BY tags DESC LIMIT 15                 \\\n",
    "                                                             \\\n",
    "                 WITH COLLECT(h) AS top_hash                 \\\n",
    "                 UNWIND top_hash AS h1                       \\\n",
    "                 UNWIND top_hash AS h2                       \\\n",
    "                                                             \\\n",
    "                 MATCH (h1)-[:TAGS]->(:Tweet)<-[:TAGS]-(h2)  \\\n",
    "                 WHERE h1.name < h2.name                     \\\n",
    "                 RETURN h1.name, h2.name, COUNT(*) AS weight\n",
    "            \n",
    "df = result.get_dataframe()\n",
    "df.head()"
   ]
  },
  {
   "cell_type": "code",
   "execution_count": 59,
   "metadata": {
    "collapsed": false,
    "slideshow": {
     "slide_type": "subslide"
    }
   },
   "outputs": [],
   "source": [
    "names = list(set(list(df[\"h1.name\"]) + list(df[\"h2.name\"])))\n",
    "heat = [[0 for i in range(len(names))] for j in range(len(names))] \n",
    "\n",
    "for idx, row in df.iterrows():\n",
    "    i = names.index(row[\"h1.name\"])\n",
    "    j = names.index(row[\"h2.name\"])\n",
    "    heat[i][j] = row[\"weight\"]"
   ]
  },
  {
   "cell_type": "code",
   "execution_count": 60,
   "metadata": {
    "collapsed": false,
    "slideshow": {
     "slide_type": "subslide"
    }
   },
   "outputs": [
    {
     "data": {
      "image/png": "[encoded data removed]",
      "text/plain": [
       "<IPython.core.display.Image object>"
      ]
     },
     "metadata": {},
     "output_type": "display_data"
    }
   ],
   "source": [
    "import plotly.graph_objs as go\n",
    "\n",
    "data = [go.Heatmap(z = heat, x = names, y = names)]\n",
    "py.image.ishow({'data': data})"
   ]
  },
  {
   "cell_type": "markdown",
   "metadata": {
    "slideshow": {
     "slide_type": "slide"
    }
   },
   "source": [
    "# Graph Algorithms\n",
    "\n",
    "The typical workflow consists of retrieving a subgraph from Neo4j via Cypher and analyzing this graph in `igraph`."
   ]
  },
  {
   "cell_type": "markdown",
   "metadata": {
    "slideshow": {
     "slide_type": "subslide"
    }
   },
   "source": [
    "## A subgraph of users retweeting other users"
   ]
  },
  {
   "cell_type": "code",
   "execution_count": 4,
   "metadata": {
    "collapsed": false,
    "slideshow": {
     "slide_type": "fragment"
    }
   },
   "outputs": [
    {
     "data": {
      "text/plain": [
       "<igraph.Graph at 0x1099b3430>"
      ]
     },
     "execution_count": 4,
     "metadata": {},
     "output_type": "execute_result"
    }
   ],
   "source": [
    "from igraph import Graph as IGraph\n",
    "\n",
    "query = \"\"\"\n",
    "MATCH (user1:User)-[:POSTS]->(retweet:Tweet)-[:RETWEETS]->(tweet:Tweet),\n",
    "      (user2:User)-[:POSTS]->(tweet)\n",
    "RETURN user1.username, user2.username, COUNT(*) AS weight\n",
    "\"\"\"\n",
    "\n",
    "data = graph.cypher.execute(query)\n",
    "\n",
    "ig = IGraph.TupleList(data, weights=True)\n",
    "ig"
   ]
  },
  {
   "cell_type": "markdown",
   "metadata": {
    "slideshow": {
     "slide_type": "subslide"
    }
   },
   "source": [
    "### Which users have the highest betweenness?\n",
    "\n",
    "$betweenness(v) = \\sum_{s, t \\in V} \\frac{\\sigma_{st}(v)}{\\sigma_{st}}$\n",
    "\n",
    "The betweenness centrality of a node $v$ is the number of shortest paths that pass through $v$, $\\sigma_{st}(v)$,  divided by the total number of shortest paths, $\\sigma_{st}$."
   ]
  },
  {
   "cell_type": "code",
   "execution_count": 11,
   "metadata": {
    "collapsed": false,
    "slideshow": {
     "slide_type": "fragment"
    }
   },
   "outputs": [
    {
     "data": {
      "text/plain": [
       "[(u'strataconf', 1922.8634920634918),\n",
       " (u'CaseySoftware', 1716.2927849927842),\n",
       " (u'DataDayTexas', 1366.052813852814),\n",
       " (u'Ellen_Friedman', 1174.9242424242423),\n",
       " (u'aterrel', 1172.3698412698416)]"
      ]
     },
     "execution_count": 11,
     "metadata": {},
     "output_type": "execute_result"
    }
   ],
   "source": [
    "between = [(node[\"name\"], node.betweenness()) for node in ig.vs]\n",
    "top = sorted(between, key=lambda x: x[1], reverse=True)\n",
    "top[:5]"
   ]
  },
  {
   "cell_type": "markdown",
   "metadata": {
    "slideshow": {
     "slide_type": "subslide"
    }
   },
   "source": [
    "### Which users have the highest closeness?\n",
    "\n",
    "$closeness(v) = \\frac{1}{\\sum_{x} d(v, x)}$\n",
    "\n",
    "The closeness centrality is the reciprocal of a node's farness, or sum of its shortest path distances from all other nodes in the graph."
   ]
  },
  {
   "cell_type": "code",
   "execution_count": 5,
   "metadata": {
    "collapsed": false,
    "slideshow": {
     "slide_type": "fragment"
    }
   },
   "outputs": [
    {
     "data": {
      "text/plain": [
       "[(u'CaseySoftware', 0.08967173738991192),\n",
       " (u'DataDayTexas', 0.08945686900958466),\n",
       " (u'clarifyio', 0.08874801901743265),\n",
       " (u'aterrel', 0.08825847123719464),\n",
       " (u'Ellen_Friedman', 0.0875684128225176)]"
      ]
     },
     "execution_count": 5,
     "metadata": {},
     "output_type": "execute_result"
    }
   ],
   "source": [
    "close = [(node[\"name\"], node.closeness()) for node in ig.vs]\n",
    "top = sorted(close, key=lambda x: x[1], reverse=True)\n",
    "top[:5]"
   ]
  },
  {
   "cell_type": "markdown",
   "metadata": {
    "slideshow": {
     "slide_type": "subslide"
    }
   },
   "source": [
    "### Community detection"
   ]
  },
  {
   "cell_type": "code",
   "execution_count": 12,
   "metadata": {
    "collapsed": false,
    "slideshow": {
     "slide_type": "fragment"
    }
   },
   "outputs": [
    {
     "data": {
      "text/plain": [
       "17"
      ]
     },
     "execution_count": 12,
     "metadata": {},
     "output_type": "execute_result"
    }
   ],
   "source": [
    "clusters = IGraph.community_walktrap(ig, weights=\"weight\")\n",
    "clusters = clusters.as_clustering()\n",
    "len(clusters)"
   ]
  },
  {
   "cell_type": "code",
   "execution_count": 13,
   "metadata": {
    "collapsed": false,
    "slideshow": {
     "slide_type": "subslide"
    }
   },
   "outputs": [
    {
     "data": {
      "text/plain": [
       "[{'id': u'marksgorman', 'label': u'marksgorman'},\n",
       " {'id': u'venkatesh_cr', 'label': u'venkatesh_cr'},\n",
       " {'id': u'hadleywickham', 'label': u'hadleywickham'},\n",
       " {'id': u'JMayData', 'label': u'JMayData'},\n",
       " {'id': u'datanerd_jaya', 'label': u'datanerd_jaya'}]"
      ]
     },
     "execution_count": 13,
     "metadata": {},
     "output_type": "execute_result"
    }
   ],
   "source": [
    "nodes = [node[\"name\"] for node in ig.vs]\n",
    "nodes = [{\"id\": x, \"label\": x} for x in nodes]\n",
    "nodes[:5]"
   ]
  },
  {
   "cell_type": "code",
   "execution_count": 14,
   "metadata": {
    "collapsed": false,
    "slideshow": {
     "slide_type": "subslide"
    }
   },
   "outputs": [
    {
     "data": {
      "text/plain": [
       "[{'group': 0, 'id': u'marksgorman', 'label': u'marksgorman'},\n",
       " {'group': 1, 'id': u'venkatesh_cr', 'label': u'venkatesh_cr'},\n",
       " {'group': 2, 'id': u'hadleywickham', 'label': u'hadleywickham'},\n",
       " {'group': 2, 'id': u'JMayData', 'label': u'JMayData'},\n",
       " {'group': 1, 'id': u'datanerd_jaya', 'label': u'datanerd_jaya'}]"
      ]
     },
     "execution_count": 14,
     "metadata": {},
     "output_type": "execute_result"
    }
   ],
   "source": [
    "for node in nodes:\n",
    "    idx = ig.vs.find(name=node[\"id\"]).index\n",
    "    node[\"group\"] = clusters.membership[idx]\n",
    "    \n",
    "nodes[:5]"
   ]
  },
  {
   "cell_type": "code",
   "execution_count": 15,
   "metadata": {
    "collapsed": false,
    "slideshow": {
     "slide_type": "subslide"
    }
   },
   "outputs": [
    {
     "data": {
      "text/plain": [
       "[{'from': u'marksgorman', 'to': u'venkatesh_cr'},\n",
       " {'from': u'hadleywickham', 'to': u'JMayData'},\n",
       " {'from': u'datanerd_jaya', 'to': u'ramhiser'},\n",
       " {'from': u'Chuparkoff', 'to': u'RobertsPaige'},\n",
       " {'from': u'Ellen_Friedman', 'to': u'OReillyMedia'}]"
      ]
     },
     "execution_count": 15,
     "metadata": {},
     "output_type": "execute_result"
    }
   ],
   "source": [
    "edges = [{\"from\": x[0], \"to\": x[1]} for x in data]\n",
    "edges[:5]"
   ]
  },
  {
   "cell_type": "code",
   "execution_count": 16,
   "metadata": {
    "collapsed": false,
    "slideshow": {
     "slide_type": "subslide"
    }
   },
   "outputs": [
    {
     "data": {
      "text/html": [
       "\n",
       "        <iframe\n",
       "            width=\"100%\"\n",
       "            height=\"400\"\n",
       "            src=\"figure/graph-ce4f7cdc-eac0-43ee-b859-a44ee6d0ab34.html\"\n",
       "            frameborder=\"0\"\n",
       "            allowfullscreen\n",
       "        ></iframe>\n",
       "        "
      ],
      "text/plain": [
       "<IPython.lib.display.IFrame at 0x10f84e2d0>"
      ]
     },
     "execution_count": 16,
     "metadata": {},
     "output_type": "execute_result"
    }
   ],
   "source": [
    "from scripts.vis import vis_network\n",
    "vis_network(nodes, edges, physics=True)"
   ]
  },
  {
   "cell_type": "markdown",
   "metadata": {
    "slideshow": {
     "slide_type": "slide"
    }
   },
   "source": [
    "# Graph Visualization"
   ]
  },
  {
   "cell_type": "markdown",
   "metadata": {
    "slideshow": {
     "slide_type": "subslide"
    }
   },
   "source": [
    "## jgraph\n",
    "\n",
    "Let's visualize (in 3D!) the structure of users retweeting and replying to other users."
   ]
  },
  {
   "cell_type": "code",
   "execution_count": 17,
   "metadata": {
    "collapsed": false,
    "slideshow": {
     "slide_type": "subslide"
    }
   },
   "outputs": [
    {
     "data": {
      "text/html": [
       "<div id=\"graph-a4a87807-1fce-46f9-87e7-def15fa147c7\"></div>\n",
       "           <script type=\"text/javascript\">\n",
       "           require.config({baseUrl: '/',\n",
       "                             paths: {jgraph: ['nbextensions/jgraph.min', 'https://rawgit.com/patrickfuller/jgraph/master/js/build/jgraph.min']}});\n",
       "           require(['jgraph'], function () {\n",
       "               var $d = $('#graph-a4a87807-1fce-46f9-87e7-def15fa147c7');\n",
       "               $d.width(600); $d.height(400);\n",
       "               $d.jgraph = jQuery.extend({}, jgraph);\n",
       "               $d.jgraph.create($d, {nodeSize: 2.000000,\n",
       "                                     edgeSize: 0.250000,\n",
       "                                     defaultNodeColor: '0x5bc0de',\n",
       "                                     defaultEdgeColor: '0xaaaaaa',\n",
       "                                     shader: 'basic',\n",
       "                                     z: 100,\n",
       "                                     runOptimization: true,\n",
       "                                     directed: true,\n",
       "                                     showSave: false});\n",
       "               $d.jgraph.draw({\n",
       "    \"edges\": [\n",
       "        { \"source\": 177, \"target\": 1 },\n",
       "        { \"source\": 4, \"target\": 3 },\n",
       "        { \"source\": 172, \"target\": 3 },\n",
       "        { \"source\": 163, \"target\": 3 },\n",
       "        { \"source\": 149, \"target\": 3 },\n",
       "        { \"source\": 369, \"target\": 9 },\n",
       "        { \"source\": 261, \"target\": 9 },\n",
       "        { \"source\": 237, \"target\": 9 },\n",
       "        { \"source\": 21, \"target\": 9 },\n",
       "        { \"source\": 8, \"target\": 9 },\n",
       "        { \"source\": 531, \"target\": 16 },\n",
       "        { \"source\": 269, \"target\": 23 },\n",
       "        { \"source\": 290, \"target\": 23 },\n",
       "        { \"source\": 277, \"target\": 23 },\n",
       "        { \"source\": 127, \"target\": 23 },\n",
       "        { \"source\": 23, \"target\": 27 },\n",
       "        { \"source\": 14, \"target\": 27 },\n",
       "        { \"source\": 34, \"target\": 27 },\n",
       "        { \"source\": 319, \"target\": 27 },\n",
       "        { \"source\": 206, \"target\": 27 },\n",
       "        { \"source\": 149, \"target\": 27 },\n",
       "        { \"source\": 539, \"target\": 29 },\n",
       "        { \"source\": 32, \"target\": 29 },\n",
       "        { \"source\": 363, \"target\": 29 },\n",
       "        { \"source\": 539, \"target\": 29 },\n",
       "        { \"source\": 277, \"target\": 29 },\n",
       "        { \"source\": 277, \"target\": 29 },\n",
       "        { \"source\": 118, \"target\": 37 },\n",
       "        { \"source\": 43, \"target\": 44 },\n",
       "        { \"source\": 380, \"target\": 44 },\n",
       "        { \"source\": 50, \"target\": 52 },\n",
       "        { \"source\": 44, \"target\": 57 },\n",
       "        { \"source\": 556, \"target\": 57 },\n",
       "        { \"source\": 435, \"target\": 57 },\n",
       "        { \"source\": 438, \"target\": 57 },\n",
       "        { \"source\": 44, \"target\": 57 },\n",
       "        { \"source\": 576, \"target\": 65 },\n",
       "        { \"source\": 416, \"target\": 65 },\n",
       "        { \"source\": 47, \"target\": 78 },\n",
       "        { \"source\": 149, \"target\": 82 },\n",
       "        { \"source\": 380, \"target\": 83 },\n",
       "        { \"source\": 29, \"target\": 83 },\n",
       "        { \"source\": 82, \"target\": 83 },\n",
       "        { \"source\": 363, \"target\": 104 },\n",
       "        { \"source\": 386, \"target\": 104 },\n",
       "        { \"source\": 177, \"target\": 104 },\n",
       "        { \"source\": 107, \"target\": 104 },\n",
       "        { \"source\": 103, \"target\": 104 },\n",
       "        { \"source\": 656, \"target\": 107 },\n",
       "        { \"source\": 177, \"target\": 107 },\n",
       "        { \"source\": 576, \"target\": 107 },\n",
       "        { \"source\": 586, \"target\": 107 },\n",
       "        { \"source\": 89, \"target\": 107 },\n",
       "        { \"source\": 542, \"target\": 107 },\n",
       "        { \"source\": 16, \"target\": 107 },\n",
       "        { \"source\": 143, \"target\": 107 },\n",
       "        { \"source\": 475, \"target\": 107 },\n",
       "        { \"source\": 528, \"target\": 107 },\n",
       "        { \"source\": 509, \"target\": 107 },\n",
       "        { \"source\": 308, \"target\": 107 },\n",
       "        { \"source\": 507, \"target\": 107 },\n",
       "        { \"source\": 452, \"target\": 107 },\n",
       "        { \"source\": 450, \"target\": 107 },\n",
       "        { \"source\": 429, \"target\": 107 },\n",
       "        { \"source\": 414, \"target\": 107 },\n",
       "        { \"source\": 131, \"target\": 107 },\n",
       "        { \"source\": 406, \"target\": 107 },\n",
       "        { \"source\": 374, \"target\": 107 },\n",
       "        { \"source\": 222, \"target\": 118 },\n",
       "        { \"source\": 44, \"target\": 118 },\n",
       "        { \"source\": 44, \"target\": 124 },\n",
       "        { \"source\": 565, \"target\": 124 },\n",
       "        { \"source\": 576, \"target\": 130 },\n",
       "        { \"source\": 131, \"target\": 130 },\n",
       "        { \"source\": 89, \"target\": 135 },\n",
       "        { \"source\": 165, \"target\": 135 },\n",
       "        { \"source\": 131, \"target\": 135 },\n",
       "        { \"source\": 138, \"target\": 135 },\n",
       "        { \"source\": 134, \"target\": 135 },\n",
       "        { \"source\": 65, \"target\": 143 },\n",
       "        { \"source\": 645, \"target\": 144 },\n",
       "        { \"source\": 65, \"target\": 144 },\n",
       "        { \"source\": 299, \"target\": 144 },\n",
       "        { \"source\": 329, \"target\": 144 },\n",
       "        { \"source\": 44, \"target\": 144 },\n",
       "        { \"source\": 177, \"target\": 144 },\n",
       "        { \"source\": 282, \"target\": 149 },\n",
       "        { \"source\": 277, \"target\": 149 },\n",
       "        { \"source\": 204, \"target\": 149 },\n",
       "        { \"source\": 277, \"target\": 149 },\n",
       "        { \"source\": 353, \"target\": 149 },\n",
       "        { \"source\": 424, \"target\": 149 },\n",
       "        { \"source\": 393, \"target\": 149 },\n",
       "        { \"source\": 331, \"target\": 149 },\n",
       "        { \"source\": 277, \"target\": 149 },\n",
       "        { \"source\": 135, \"target\": 174 },\n",
       "        { \"source\": 614, \"target\": 177 },\n",
       "        { \"source\": 374, \"target\": 177 },\n",
       "        { \"source\": 374, \"target\": 177 },\n",
       "        { \"source\": 349, \"target\": 177 },\n",
       "        { \"source\": 192, \"target\": 177 },\n",
       "        { \"source\": 192, \"target\": 177 },\n",
       "        { \"source\": 16, \"target\": 177 },\n",
       "        { \"source\": 107, \"target\": 177 },\n",
       "        { \"source\": 304, \"target\": 185 },\n",
       "        { \"source\": 488, \"target\": 185 },\n",
       "        { \"source\": 343, \"target\": 185 },\n",
       "        { \"source\": 304, \"target\": 185 },\n",
       "        { \"source\": 118, \"target\": 199 },\n",
       "        { \"source\": 435, \"target\": 199 },\n",
       "        { \"source\": 277, \"target\": 199 },\n",
       "        { \"source\": 277, \"target\": 199 },\n",
       "        { \"source\": 277, \"target\": 199 },\n",
       "        { \"source\": 393, \"target\": 199 },\n",
       "        { \"source\": 663, \"target\": 249 },\n",
       "        { \"source\": 636, \"target\": 269 },\n",
       "        { \"source\": 380, \"target\": 269 },\n",
       "        { \"source\": 503, \"target\": 269 },\n",
       "        { \"source\": 424, \"target\": 269 },\n",
       "        { \"source\": 351, \"target\": 269 },\n",
       "        { \"source\": 343, \"target\": 269 },\n",
       "        { \"source\": 29, \"target\": 269 },\n",
       "        { \"source\": 539, \"target\": 292 },\n",
       "        { \"source\": 539, \"target\": 292 },\n",
       "        { \"source\": 539, \"target\": 292 },\n",
       "        { \"source\": 576, \"target\": 308 },\n",
       "        { \"source\": 118, \"target\": 308 },\n",
       "        { \"source\": 82, \"target\": 327 },\n",
       "        { \"source\": 206, \"target\": 340 },\n",
       "        { \"source\": 341, \"target\": 361 },\n",
       "        { \"source\": 380, \"target\": 361 },\n",
       "        { \"source\": 83, \"target\": 380 },\n",
       "        { \"source\": 645, \"target\": 393 },\n",
       "        { \"source\": 447, \"target\": 426 },\n",
       "        { \"source\": 442, \"target\": 426 },\n",
       "        { \"source\": 610, \"target\": 426 },\n",
       "        { \"source\": 582, \"target\": 426 },\n",
       "        { \"source\": 206, \"target\": 426 },\n",
       "        { \"source\": 514, \"target\": 426 },\n",
       "        { \"source\": 447, \"target\": 426 },\n",
       "        { \"source\": 432, \"target\": 426 },\n",
       "        { \"source\": 447, \"target\": 426 },\n",
       "        { \"source\": 442, \"target\": 426 },\n",
       "        { \"source\": 380, \"target\": 426 },\n",
       "        { \"source\": 438, \"target\": 439 },\n",
       "        { \"source\": 478, \"target\": 478 },\n",
       "        { \"source\": 44, \"target\": 478 },\n",
       "        { \"source\": 206, \"target\": 478 },\n",
       "        { \"source\": 52, \"target\": 478 },\n",
       "        { \"source\": 511, \"target\": 478 },\n",
       "        { \"source\": 50, \"target\": 478 }\n",
       "    ],\n",
       "    \"nodes\": {\n",
       "        \"1\": { \"location\": [ -2.000, -2.000, -2.000 ] },\n",
       "        \"3\": { \"location\": [ -2.000, -2.000, -2.000 ] },\n",
       "        \"4\": { \"location\": [ -2.000, -2.000, -2.000 ] },\n",
       "        \"8\": { \"location\": [ -2.000, -2.000, -2.000 ] },\n",
       "        \"9\": { \"location\": [ -2.000, -2.000, -2.000 ] },\n",
       "        \"14\": { \"location\": [ -2.000, -2.000, -2.000 ] },\n",
       "        \"16\": { \"location\": [ -2.000, -2.000, -2.000 ] },\n",
       "        \"21\": { \"location\": [ -2.000, -2.000, -2.000 ] },\n",
       "        \"23\": { \"location\": [ -2.000, -2.000, -2.000 ] },\n",
       "        \"27\": { \"location\": [ 2.000, 2.000, 2.000 ] },\n",
       "        \"29\": { \"location\": [ -2.000, -2.000, -2.000 ] },\n",
       "        \"32\": { \"location\": [ -2.000, -2.000, -2.000 ] },\n",
       "        \"34\": { \"location\": [ -2.000, -2.000, -2.000 ] },\n",
       "        \"37\": { \"location\": [ -2.000, -2.000, -2.000 ] },\n",
       "        \"43\": { \"location\": [ -2.000, -2.000, -2.000 ] },\n",
       "        \"44\": { \"location\": [ -2.000, -2.000, -2.000 ] },\n",
       "        \"47\": { \"location\": [ -2.000, -2.000, -2.000 ] },\n",
       "        \"50\": { \"location\": [ -2.000, -2.000, -2.000 ] },\n",
       "        \"52\": { \"location\": [ -2.000, -2.000, -2.000 ] },\n",
       "        \"57\": { \"location\": [ -2.000, -2.000, -2.000 ] },\n",
       "        \"65\": { \"location\": [ -2.000, -2.000, -2.000 ] },\n",
       "        \"78\": { \"location\": [ -2.000, -2.000, -2.000 ] },\n",
       "        \"82\": { \"location\": [ -2.000, -2.000, -2.000 ] },\n",
       "        \"83\": { \"location\": [ -2.000, -2.000, -2.000 ] },\n",
       "        \"89\": { \"location\": [ -2.000, -2.000, -2.000 ] },\n",
       "        \"103\": { \"location\": [ -2.000, -2.000, -2.000 ] },\n",
       "        \"104\": { \"location\": [ -2.000, -2.000, -2.000 ] },\n",
       "        \"107\": { \"location\": [ -2.000, -2.000, -2.000 ] },\n",
       "        \"118\": { \"location\": [ -2.000, -2.000, -2.000 ] },\n",
       "        \"124\": { \"location\": [ -2.000, -2.000, -2.000 ] },\n",
       "        \"127\": { \"location\": [ -2.000, -2.000, -2.000 ] },\n",
       "        \"130\": { \"location\": [ -2.000, -2.000, -2.000 ] },\n",
       "        \"131\": { \"location\": [ -2.000, -2.000, -2.000 ] },\n",
       "        \"134\": { \"location\": [ -2.000, -2.000, -2.000 ] },\n",
       "        \"135\": { \"location\": [ -2.000, -2.000, -2.000 ] },\n",
       "        \"138\": { \"location\": [ -2.000, -2.000, -2.000 ] },\n",
       "        \"143\": { \"location\": [ -2.000, -2.000, -2.000 ] },\n",
       "        \"144\": { \"location\": [ 2.000, 2.000, 2.000 ] },\n",
       "        \"149\": { \"location\": [ -2.000, -2.000, -2.000 ] },\n",
       "        \"163\": { \"location\": [ -2.000, -2.000, -2.000 ] },\n",
       "        \"165\": { \"location\": [ -2.000, -2.000, -2.000 ] },\n",
       "        \"172\": { \"location\": [ -2.000, -2.000, -2.000 ] },\n",
       "        \"174\": { \"location\": [ -2.000, -2.000, -2.000 ] },\n",
       "        \"177\": { \"location\": [ -0.974, -0.959, -2.000 ] },\n",
       "        \"185\": { \"location\": [ 0.533, -1.141, -1.047 ] },\n",
       "        \"192\": { \"location\": [ 1.874, -0.539, -0.812 ] },\n",
       "        \"199\": { \"location\": [ 2.000, 0.914, -0.110 ] },\n",
       "        \"204\": { \"location\": [ 2.000, -0.409, 2.000 ] },\n",
       "        \"206\": { \"location\": [ 2.000, 2.000, 1.176 ] },\n",
       "        \"222\": { \"location\": [ 2.000, 2.000, 2.000 ] },\n",
       "        \"237\": { \"location\": [ 2.000, 2.000, 2.000 ] },\n",
       "        \"249\": { \"location\": [ 2.000, 2.000, 2.000 ] },\n",
       "        \"261\": { \"location\": [ 2.000, 2.000, 2.000 ] },\n",
       "        \"269\": { \"location\": [ 2.000, 2.000, 2.000 ] },\n",
       "        \"277\": { \"location\": [ 2.000, 2.000, 2.000 ] },\n",
       "        \"282\": { \"location\": [ 2.000, 2.000, 2.000 ] },\n",
       "        \"290\": { \"location\": [ 2.000, 2.000, 2.000 ] },\n",
       "        \"292\": { \"location\": [ 2.000, 2.000, 2.000 ] },\n",
       "        \"299\": { \"location\": [ 2.000, 2.000, 2.000 ] },\n",
       "        \"304\": { \"location\": [ 2.000, 2.000, 2.000 ] },\n",
       "        \"308\": { \"location\": [ 2.000, 2.000, 2.000 ] },\n",
       "        \"319\": { \"location\": [ 2.000, 2.000, 2.000 ] },\n",
       "        \"327\": { \"location\": [ 2.000, 2.000, 2.000 ] },\n",
       "        \"329\": { \"location\": [ 2.000, 2.000, 2.000 ] },\n",
       "        \"331\": { \"location\": [ 2.000, 2.000, 2.000 ] },\n",
       "        \"340\": { \"location\": [ 2.000, 2.000, 2.000 ] },\n",
       "        \"341\": { \"location\": [ 2.000, 2.000, 2.000 ] },\n",
       "        \"343\": { \"location\": [ 2.000, 2.000, 2.000 ] },\n",
       "        \"349\": { \"location\": [ 2.000, 2.000, 2.000 ] },\n",
       "        \"351\": { \"location\": [ 2.000, 2.000, 2.000 ] },\n",
       "        \"353\": { \"location\": [ 2.000, 2.000, 2.000 ] },\n",
       "        \"361\": { \"location\": [ 2.000, 2.000, 2.000 ] },\n",
       "        \"363\": { \"location\": [ 2.000, 2.000, 2.000 ] },\n",
       "        \"369\": { \"location\": [ 2.000, 2.000, 2.000 ] },\n",
       "        \"374\": { \"location\": [ 2.000, 2.000, 2.000 ] },\n",
       "        \"380\": { \"location\": [ 2.000, 2.000, 2.000 ] },\n",
       "        \"386\": { \"location\": [ 2.000, 2.000, 2.000 ] },\n",
       "        \"393\": { \"location\": [ 2.000, 2.000, 2.000 ] },\n",
       "        \"406\": { \"location\": [ 2.000, 2.000, 2.000 ] },\n",
       "        \"414\": { \"location\": [ 2.000, 2.000, 2.000 ] },\n",
       "        \"416\": { \"location\": [ 2.000, 2.000, 2.000 ] },\n",
       "        \"424\": { \"location\": [ 2.000, 2.000, 2.000 ] },\n",
       "        \"426\": { \"location\": [ 2.000, 2.000, 2.000 ] },\n",
       "        \"429\": { \"location\": [ 2.000, 2.000, 2.000 ] },\n",
       "        \"432\": { \"location\": [ 2.000, 2.000, 2.000 ] },\n",
       "        \"435\": { \"location\": [ 2.000, 2.000, 2.000 ] },\n",
       "        \"438\": { \"location\": [ 2.000, 2.000, 2.000 ] },\n",
       "        \"439\": { \"location\": [ 2.000, 2.000, 2.000 ] },\n",
       "        \"442\": { \"location\": [ 2.000, 2.000, 2.000 ] },\n",
       "        \"447\": { \"location\": [ 2.000, 2.000, 2.000 ] },\n",
       "        \"450\": { \"location\": [ 2.000, 2.000, 2.000 ] },\n",
       "        \"452\": { \"location\": [ 2.000, 2.000, 2.000 ] },\n",
       "        \"475\": { \"location\": [ 2.000, 2.000, 2.000 ] },\n",
       "        \"478\": { \"location\": [ 2.000, 2.000, 2.000 ] },\n",
       "        \"488\": { \"location\": [ 2.000, 2.000, 2.000 ] },\n",
       "        \"503\": { \"location\": [ 2.000, 2.000, 2.000 ] },\n",
       "        \"507\": { \"location\": [ 2.000, 2.000, 2.000 ] },\n",
       "        \"509\": { \"location\": [ 2.000, 2.000, 2.000 ] },\n",
       "        \"511\": { \"location\": [ 2.000, 2.000, 2.000 ] },\n",
       "        \"514\": { \"location\": [ -2.000, -2.000, -2.000 ] },\n",
       "        \"528\": { \"location\": [ -2.000, -2.000, -2.000 ] },\n",
       "        \"531\": { \"location\": [ -2.000, -2.000, -2.000 ] },\n",
       "        \"539\": { \"location\": [ -2.000, -2.000, -2.000 ] },\n",
       "        \"542\": { \"location\": [ -2.000, -2.000, -2.000 ] },\n",
       "        \"556\": { \"location\": [ 2.000, 2.000, 2.000 ] },\n",
       "        \"565\": { \"location\": [ -2.000, -2.000, -2.000 ] },\n",
       "        \"576\": { \"location\": [ -2.000, -2.000, -2.000 ] },\n",
       "        \"582\": { \"location\": [ -2.000, -2.000, -2.000 ] },\n",
       "        \"586\": { \"location\": [ -2.000, -2.000, -2.000 ] },\n",
       "        \"610\": { \"location\": [ -2.000, -2.000, -2.000 ] },\n",
       "        \"614\": { \"location\": [ -2.000, -2.000, -2.000 ] },\n",
       "        \"636\": { \"location\": [ 2.000, 2.000, 2.000 ] },\n",
       "        \"645\": { \"location\": [ -2.000, -2.000, -2.000 ] },\n",
       "        \"656\": { \"location\": [ -2.000, -2.000, -2.000 ] },\n",
       "        \"663\": { \"location\": [ -2.000, -2.000, -2.000 ] }\n",
       "    }\n",
       "});\n",
       "\n",
       "               $d.resizable({\n",
       "                   aspectRatio: 600 / 400,\n",
       "                   resize: function (evt, ui) {\n",
       "                       $d.jgraph.renderer.setSize(ui.size.width,\n",
       "                                                  ui.size.height);\n",
       "                   }\n",
       "               });\n",
       "           });\n",
       "           </script>"
      ],
      "text/plain": [
       "<IPython.core.display.HTML object>"
      ]
     },
     "metadata": {},
     "output_type": "display_data"
    }
   ],
   "source": [
    "import jgraph\n",
    "\n",
    "query = \"\"\"\n",
    "MATCH (user1:User)-[:POSTS]->(:Tweet)-[:RETWEETS|REPLY_TO]->(:Tweet)<-[:POSTS]-(user2:User)\n",
    "RETURN ID(user1), ID(user2)\n",
    "\"\"\"\n",
    "\n",
    "data = graph.cypher.execute(query)\n",
    "tup = [tuple(x) for x in data]\n",
    "\n",
    "jgraph.draw(tup)"
   ]
  }
 ],
 "metadata": {
  "celltoolbar": "Slideshow",
  "kernelspec": {
   "display_name": "Python 2",
   "language": "python",
   "name": "python2"
  },
  "language_info": {
   "codemirror_mode": {
    "name": "ipython",
    "version": 2
   },
   "file_extension": ".py",
   "mimetype": "text/x-python",
   "name": "python",
   "nbconvert_exporter": "python",
   "pygments_lexer": "ipython2",
   "version": "2.7.10"
  }
 },
 "nbformat": 4,
 "nbformat_minor": 0
}
